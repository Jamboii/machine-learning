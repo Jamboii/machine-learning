{
 "cells": [
  {
   "cell_type": "code",
   "execution_count": 14,
   "metadata": {
    "collapsed": true
   },
   "outputs": [],
   "source": [
    "import numpy as np\n",
    "import pandas as pd\n",
    "import matplotlib.pyplot as plt\n",
    "from mlxtend.plotting import plot_decision_regions\n",
    "from sklearn.metrics import classification_report, confusion_matrix\n",
    "%matplotlib inline"
   ]
  },
  {
   "cell_type": "code",
   "execution_count": 2,
   "metadata": {
    "collapsed": true
   },
   "outputs": [],
   "source": [
    "np.random.seed(102)"
   ]
  },
  {
   "cell_type": "code",
   "execution_count": 3,
   "metadata": {},
   "outputs": [
    {
     "data": {
      "text/plain": [
       "array([[0.59768158, 0.6759869 ],\n",
       "       [0.29928174, 0.73074027],\n",
       "       [0.57873939, 0.80901767],\n",
       "       [0.1672485 , 0.31214497],\n",
       "       [0.35793155, 0.4917473 ],\n",
       "       [0.49019824, 0.89440989],\n",
       "       [0.18241053, 0.36116209],\n",
       "       [0.81059146, 0.33344683],\n",
       "       [0.5189505 , 0.26162022],\n",
       "       [0.13092809, 0.12241719],\n",
       "       [0.55165734, 0.02938371],\n",
       "       [0.60277512, 0.75088233],\n",
       "       [0.24907072, 0.19767774],\n",
       "       [0.57395606, 0.90179842],\n",
       "       [0.51621644, 0.40119864],\n",
       "       [0.51748975, 0.93739107],\n",
       "       [0.85040822, 0.17550296],\n",
       "       [0.51981914, 0.50576435],\n",
       "       [0.34856036, 0.07084276],\n",
       "       [0.57598201, 0.4017127 ]])"
      ]
     },
     "execution_count": 3,
     "metadata": {},
     "output_type": "execute_result"
    }
   ],
   "source": [
    "# Generate 2D set of 20 points inside the unit square of the 1st quadrant\n",
    "rand_x = np.random.uniform(size=(20,2))\n",
    "rand_x"
   ]
  },
  {
   "cell_type": "code",
   "execution_count": 4,
   "metadata": {
    "collapsed": true
   },
   "outputs": [],
   "source": [
    "# All points with x1 > x2 belong to positive class, else belong to negative class\n",
    "# True separator of the two classes is a linear hyperplane where x1 - x2 = 0\n",
    "df = pd.DataFrame({\"x1\": rand_x[:,0], \"x2\": rand_x[:,1]})\n",
    "cls = df[\"x1\"] - df[\"x2\"]\n",
    "df[\"class\"] = cls.apply(lambda x: 1 if x > 0 else -1)\n",
    "df.head()\n",
    "\n",
    "# Define inputs and labels\n",
    "X_train = df.iloc[:,0:2].values\n",
    "y_train = df.iloc[:,2].values"
   ]
  },
  {
   "cell_type": "code",
   "execution_count": 5,
   "metadata": {
    "collapsed": true
   },
   "outputs": [],
   "source": [
    "\"\"\"\n",
    "PERCEPTRON\n",
    "\n",
    "activation = sum(weight_i * x_i) + bias\n",
    "prediction = 1.0 if activation >= 0.0 else 0.0\n",
    "\n",
    "optimize weights: w <- w + learning_rate(y_expected - y_predicted) * x \n",
    "E(X) = error = y_expected - y_predicted\n",
    "\n",
    "Perceptron Loss: max(0, y_exp * y_pred)\n",
    "Hinge Loss: max(0, 1 - y_exp * y_pred)\n",
    "\n",
    "Mean-Squared Error: sum((y_pred - y_exp)^2) / y_exp.size\n",
    "\"\"\"\n",
    "\n",
    "class Perceptron(object):\n",
    "    \n",
    "    def __init__(self, num_inputs, epochs=100, loss_func=\"perceptron\", learning_rate=0.01):\n",
    "        self.epochs = epochs\n",
    "        self.loss_func = loss_func\n",
    "        self.learning_rate = learning_rate\n",
    "        self.weights = np.zeros(num_inputs + 1) # weights[0] = bias term, weights[1:] = weight for each input/feature\n",
    "        self.errors_ = []\n",
    "        \n",
    "    def loss_perceptron(self, y_pred, y_exp):\n",
    "        return np.maximum(0, -y_exp * y_pred) # max(0, -y*yHat)\n",
    "        \n",
    "    def loss_hinge(self, y_pred, y_exp):\n",
    "        return np.maximum(0, 1 - y_exp * y_pred) # max(0, 1-y*yHat)\n",
    "    \n",
    "    def loss_mse(self, y_pred, y_exp): # aka L2 loss\n",
    "        return (y_exp - y_pred)**2 # (y - yHat)^2\n",
    "    \n",
    "    def loss(self, prediction, label):\n",
    "        if (self.loss_func == \"mse\"):\n",
    "            return self.loss_mse(prediction, label)\n",
    "        elif (self.loss_func == \"hinge\"):\n",
    "            return self.loss_hinge(prediction, label)\n",
    "        else: \n",
    "            # default to perceptron loss\n",
    "            return self.loss_perceptron(prediction, label)\n",
    "        \n",
    "    def update(self, label, pred):\n",
    "        if (self.loss_func == \"mse\"): # sum of squared errors uses linear activation\n",
    "            \n",
    "            return self.learning_rate * (label - pred) # LSE updates\n",
    "        \n",
    "        elif (self.loss_func == \"hinge\"): # make updates like an SVM\n",
    "            \n",
    "            if (label*pred < 1): # y(W*X) < 1\n",
    "                return self.learning_rate * label # alpha * misclassified y's\n",
    "            else:\n",
    "                return 0\n",
    "            \n",
    "        else:\n",
    "            # updates for perceptron made by sign function\n",
    "            pred_sign = np.where(pred >= 0, 1, -1)\n",
    "            return self.learning_rate * (label - pred_sign) # alpha * (y - yHat)\n",
    " \n",
    "    def predict(self, inputs): # f(x) = 1 if w * x + b > 0 : 0 otherwise\n",
    "        summation = np.dot(inputs, self.weights[1:]) + self.weights[0] # activation computation\n",
    "        \n",
    "        activation = np.where(summation >= 0, 1, -1) # sign activation function - for testing not training\n",
    "        \n",
    "        return activation\n",
    "    \n",
    "    def train(self, training_inputs, labels):\n",
    "        \n",
    "        self.errors_ = []\n",
    "        \n",
    "        for epoch in range(self.epochs): # go through each epoch\n",
    "            errors = 0\n",
    "            for inputs, label in zip(training_inputs, labels): # inputs\n",
    "                \n",
    "                prediction = self.predict(inputs)\n",
    "                summation = np.dot(inputs, self.weights[1:]) + self.weights[0]\n",
    "                \n",
    "                self.weights[1:] += self.update(label, summation) * inputs # weight optimizer\n",
    "                self.weights[0] += self.update(label, summation) # bias update\n",
    "                errors += (self.loss(summation, label))\n",
    "            if (self.loss_func == \"mse\"): # mse/sse = 1/N * sum(y_i - yHat_i)^2, N=2\n",
    "                errors *= 0.5\n",
    "            self.errors_.append(errors)\n",
    "            \n",
    "        # Plot decision regions and loss at the end\n",
    "        self.plot_epochs(training_inputs, labels)\n",
    "            \n",
    "    def plot_epochs(self, inputs, labels):\n",
    "        plot_decision_regions(inputs, labels, clf=self, colors='red,blue')\n",
    "        plt.title('Perceptron')\n",
    "        plt.xlabel('x1')\n",
    "        plt.ylabel('x2')\n",
    "        plt.show()\n",
    "\n",
    "        plt.plot(range(1, len(self.errors_)+1), self.errors_, marker='o')\n",
    "        plt.xlabel('Epoch')\n",
    "        plt.ylabel('Error')\n",
    "        plt.show()"
   ]
  },
  {
   "cell_type": "code",
   "execution_count": 6,
   "metadata": {
    "collapsed": true
   },
   "outputs": [],
   "source": [
    "ppn = Perceptron(2, epochs=800)\n",
    "ppn_hinge = Perceptron(2, epochs=800, loss_func=\"hinge\")\n",
    "ppn_mse = Perceptron(2, epochs=800, loss_func=\"mse\")"
   ]
  },
  {
   "cell_type": "code",
   "execution_count": 7,
   "metadata": {},
   "outputs": [
    {
     "data": {
      "image/png": "[encoded data removed]",
      "text/plain": [
       "<Figure size 432x288 with 1 Axes>"
      ]
     },
     "metadata": {},
     "output_type": "display_data"
    },
    {
     "data": {
      "image/png": "[encoded data removed]",
      "text/plain": [
       "<Figure size 432x288 with 1 Axes>"
      ]
     },
     "metadata": {},
     "output_type": "display_data"
    }
   ],
   "source": [
    "ppn.train(X_train,y_train)"
   ]
  },
  {
   "cell_type": "code",
   "execution_count": 8,
   "metadata": {},
   "outputs": [
    {
     "data": {
      "image/png": "[encoded data removed]",
      "text/plain": [
       "<Figure size 432x288 with 1 Axes>"
      ]
     },
     "metadata": {},
     "output_type": "display_data"
    },
    {
     "data": {
      "image/png": "[encoded data removed]",
      "text/plain": [
       "<Figure size 432x288 with 1 Axes>"
      ]
     },
     "metadata": {},
     "output_type": "display_data"
    }
   ],
   "source": [
    "ppn_hinge.train(X_train,y_train)"
   ]
  },
  {
   "cell_type": "code",
   "execution_count": 9,
   "metadata": {},
   "outputs": [
    {
     "data": {
      "image/png": "[encoded data removed]",
      "text/plain": [
       "<Figure size 432x288 with 1 Axes>"
      ]
     },
     "metadata": {},
     "output_type": "display_data"
    },
    {
     "data": {
      "image/png": "[encoded data removed]",
      "text/plain": [
       "<Figure size 432x288 with 1 Axes>"
      ]
     },
     "metadata": {},
     "output_type": "display_data"
    }
   ],
   "source": [
    "ppn_mse.train(X_train,y_train)"
   ]
  },
  {
   "cell_type": "code",
   "execution_count": 10,
   "metadata": {},
   "outputs": [
    {
     "name": "stdout",
     "output_type": "stream",
     "text": [
      "[ 0.02        0.05249674 -0.09337806]\n",
      "[ 1.33        4.17401421 -6.77151079]\n",
      "[ 0.52973015  1.82048997 -2.9142931 ]\n"
     ]
    }
   ],
   "source": [
    "print(ppn.weights)\n",
    "print(ppn_hinge.weights)\n",
    "print(ppn_mse.weights)"
   ]
  },
  {
   "cell_type": "code",
   "execution_count": 11,
   "metadata": {},
   "outputs": [
    {
     "data": {
      "text/html": [
       "<div>\n",
       "<style scoped>\n",
       "    .dataframe tbody tr th:only-of-type {\n",
       "        vertical-align: middle;\n",
       "    }\n",
       "\n",
       "    .dataframe tbody tr th {\n",
       "        vertical-align: top;\n",
       "    }\n",
       "\n",
       "    .dataframe thead th {\n",
       "        text-align: right;\n",
       "    }\n",
       "</style>\n",
       "<table border=\"1\" class=\"dataframe\">\n",
       "  <thead>\n",
       "    <tr style=\"text-align: right;\">\n",
       "      <th></th>\n",
       "      <th>x1</th>\n",
       "      <th>x2</th>\n",
       "      <th>class</th>\n",
       "    </tr>\n",
       "  </thead>\n",
       "  <tbody>\n",
       "    <tr>\n",
       "      <th>0</th>\n",
       "      <td>0.911415</td>\n",
       "      <td>0.808886</td>\n",
       "      <td>1</td>\n",
       "    </tr>\n",
       "    <tr>\n",
       "      <th>1</th>\n",
       "      <td>0.132057</td>\n",
       "      <td>0.714864</td>\n",
       "      <td>-1</td>\n",
       "    </tr>\n",
       "    <tr>\n",
       "      <th>2</th>\n",
       "      <td>0.346663</td>\n",
       "      <td>0.614411</td>\n",
       "      <td>-1</td>\n",
       "    </tr>\n",
       "    <tr>\n",
       "      <th>3</th>\n",
       "      <td>0.287490</td>\n",
       "      <td>0.985570</td>\n",
       "      <td>-1</td>\n",
       "    </tr>\n",
       "    <tr>\n",
       "      <th>4</th>\n",
       "      <td>0.272213</td>\n",
       "      <td>0.819392</td>\n",
       "      <td>-1</td>\n",
       "    </tr>\n",
       "  </tbody>\n",
       "</table>\n",
       "</div>"
      ],
      "text/plain": [
       "         x1        x2  class\n",
       "0  0.911415  0.808886      1\n",
       "1  0.132057  0.714864     -1\n",
       "2  0.346663  0.614411     -1\n",
       "3  0.287490  0.985570     -1\n",
       "4  0.272213  0.819392     -1"
      ]
     },
     "execution_count": 11,
     "metadata": {},
     "output_type": "execute_result"
    }
   ],
   "source": [
    "# Create 1000 random uniform test points\n",
    "rand_x_test = np.random.uniform(size=(1000,2))\n",
    "df_test = pd.DataFrame({\"x1\": rand_x_test[:,0], \"x2\": rand_x_test[:,1]})\n",
    "cls_test = df_test[\"x1\"] - df_test[\"x2\"]\n",
    "df_test[\"class\"] = cls_test.apply(lambda x: 1 if x > 0 else -1)\n",
    "df_test.head()"
   ]
  },
  {
   "cell_type": "code",
   "execution_count": 12,
   "metadata": {
    "collapsed": true
   },
   "outputs": [],
   "source": [
    "X_test = df_test.iloc[:,0:2].values\n",
    "y_test = df_test.iloc[:,2].values\n",
    "data = df_test.iloc[:,0:3].values"
   ]
  },
  {
   "cell_type": "code",
   "execution_count": 15,
   "metadata": {},
   "outputs": [
    {
     "name": "stdout",
     "output_type": "stream",
     "text": [
      "              precision    recall  f1-score   support\n",
      "\n",
      "          -1       0.90      0.92      0.91       487\n",
      "           1       0.93      0.90      0.91       513\n",
      "\n",
      "    accuracy                           0.91      1000\n",
      "   macro avg       0.91      0.91      0.91      1000\n",
      "weighted avg       0.91      0.91      0.91      1000\n",
      "\n",
      "[[450  37]\n",
      " [ 52 461]]\n"
     ]
    }
   ],
   "source": [
    "y_pred = []\n",
    "loss_ppn = 0\n",
    "for value in data:\n",
    "    point = value[0:2]\n",
    "    label = value[2]\n",
    "    prediction = ppn.predict(point)\n",
    "    y_pred.append(prediction)\n",
    "    loss_ppn += (ppn.loss(prediction, label))\n",
    "\n",
    "# Perceptron Loss\n",
    "print(classification_report(y_test,y_pred))\n",
    "print(confusion_matrix(y_test,y_pred))"
   ]
  },
  {
   "cell_type": "code",
   "execution_count": 16,
   "metadata": {},
   "outputs": [
    {
     "name": "stdout",
     "output_type": "stream",
     "text": [
      "              precision    recall  f1-score   support\n",
      "\n",
      "          -1       0.92      0.93      0.92       487\n",
      "           1       0.93      0.92      0.93       513\n",
      "\n",
      "    accuracy                           0.93      1000\n",
      "   macro avg       0.92      0.93      0.92      1000\n",
      "weighted avg       0.93      0.93      0.93      1000\n",
      "\n",
      "[[452  35]\n",
      " [ 40 473]]\n"
     ]
    }
   ],
   "source": [
    "y_pred = []\n",
    "loss_hinge = 0\n",
    "for value in data:\n",
    "    point = value[0:2]\n",
    "    label = value[2]\n",
    "    prediction = ppn_hinge.predict(point)\n",
    "    y_pred.append(prediction)\n",
    "    loss_hinge += (ppn_hinge.loss(prediction, label))\n",
    "    \n",
    "# Hinge Loss\n",
    "print(classification_report(y_test,y_pred))\n",
    "print(confusion_matrix(y_test,y_pred))"
   ]
  },
  {
   "cell_type": "code",
   "execution_count": 17,
   "metadata": {},
   "outputs": [
    {
     "name": "stdout",
     "output_type": "stream",
     "text": [
      "              precision    recall  f1-score   support\n",
      "\n",
      "          -1       0.91      0.93      0.92       487\n",
      "           1       0.93      0.91      0.92       513\n",
      "\n",
      "    accuracy                           0.92      1000\n",
      "   macro avg       0.92      0.92      0.92      1000\n",
      "weighted avg       0.92      0.92      0.92      1000\n",
      "\n",
      "[[454  33]\n",
      " [ 46 467]]\n"
     ]
    }
   ],
   "source": [
    "y_pred = []\n",
    "loss_mse = 0\n",
    "for value in data:\n",
    "    point = value[0:2]\n",
    "    label = value[2]\n",
    "    prediction = ppn_mse.predict(point)\n",
    "    y_pred.append(prediction)\n",
    "    loss_mse += (ppn_mse.loss(prediction, label))\n",
    "    \n",
    "# MSE Loss\n",
    "print(classification_report(y_test,y_pred))\n",
    "print(confusion_matrix(y_test,y_pred))"
   ]
  },
  {
   "cell_type": "code",
   "execution_count": 19,
   "metadata": {},
   "outputs": [
    {
     "data": {
      "image/png": "[encoded data removed]",
      "text/plain": [
       "<Figure size 432x288 with 1 Axes>"
      ]
     },
     "metadata": {},
     "output_type": "display_data"
    }
   ],
   "source": [
    "mean = np.add(ppn.errors_, ppn_hinge.errors_)\n",
    "meaner = np.add(mean, ppn_mse.errors_)\n",
    "loss_mean = meaner / 3\n",
    "\n",
    "# Mean Training Error Plot\n",
    "plt.plot(range(1, len(loss_mean)+1), loss_mean, marker='o')\n",
    "plt.xlabel('Epoch')\n",
    "plt.ylabel('Mean Error')\n",
    "plt.show()"
   ]
  },
  {
   "cell_type": "code",
   "execution_count": 20,
   "metadata": {},
   "outputs": [
    {
     "data": {
      "image/png": "[encoded data removed]",
      "text/plain": [
       "<Figure size 432x288 with 1 Axes>"
      ]
     },
     "metadata": {},
     "output_type": "display_data"
    }
   ],
   "source": [
    "mx = np.maximum(ppn.errors_, ppn_hinge.errors_)\n",
    "maxer = np.maximum(mx, ppn_mse.errors_)\n",
    "loss_max = maxer\n",
    "\n",
    "# Maximum Training Error Plot\n",
    "plt.plot(range(1, len(loss_max)+1), loss_max, marker='o')\n",
    "plt.xlabel('Epoch')\n",
    "plt.ylabel('Max Error')\n",
    "plt.show()"
   ]
  },
  {
   "cell_type": "code",
   "execution_count": null,
   "metadata": {
    "collapsed": true
   },
   "outputs": [],
   "source": []
  }
 ],
 "metadata": {
  "kernelspec": {
   "display_name": "Python 3",
   "language": "python",
   "name": "python3"
  },
  "language_info": {
   "codemirror_mode": {
    "name": "ipython",
    "version": 3
   },
   "file_extension": ".py",
   "mimetype": "text/x-python",
   "name": "python",
   "nbconvert_exporter": "python",
   "pygments_lexer": "ipython3",
   "version": "3.6.8"
  }
 },
 "nbformat": 4,
 "nbformat_minor": 2
}
